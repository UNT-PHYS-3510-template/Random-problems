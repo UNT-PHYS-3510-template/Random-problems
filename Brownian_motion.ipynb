{
 "cells": [
  {
   "cell_type": "markdown",
   "metadata": {},
   "source": [
    "# Brownian Motion\n",
    "We will explore the properties of Brownian motion in 2 dimension."
   ]
  },
  {
   "cell_type": "markdown",
   "metadata": {},
   "source": [
    "Import useful modules"
   ]
  },
  {
   "cell_type": "code",
   "execution_count": 2,
   "metadata": {},
   "outputs": [],
   "source": [
    "import numpy as np\n",
    "import matplotlib.pyplot as plt\n",
    "#import matplotlib.style as style\n",
    "#style.use('dark_background')"
   ]
  },
  {
   "cell_type": "code",
   "execution_count": 15,
   "metadata": {},
   "outputs": [],
   "source": [
    "# uncomment the following line if you want to use qt5 to visualize the results\n",
    "# %matplotlib qt5"
   ]
  },
  {
   "cell_type": "markdown",
   "metadata": {},
   "source": [
    "Let's start by considering a single particle undergoing Brownian motion. The parameters of the motion can be specified before the simulation. As in the previous assignments, we are using simplified units "
   ]
  },
  {
   "cell_type": "code",
   "execution_count": 4,
   "metadata": {},
   "outputs": [],
   "source": [
    "b = 0.1 # scaled coefficient of linear drag, b=b1/m\n",
    "force = 0.005 # scaled magnitude of the random force F=f/m\n",
    "tau = 2.0 # relaxation time of the random force"
   ]
  },
  {
   "cell_type": "markdown",
   "metadata": {},
   "source": [
    "Now we can run some steps of a dynamics. We will use the following algorithm: \n",
    "1. first draw the time of the next random kick\n",
    "2. if the kick time is after the end of the current timestep, just take a step of linear damped dynamic\n",
    "3. otherwise:\n",
    "   1. evolve the linear damp dynamics up to the time of the kick\n",
    "   2. change the velocity according to the random force \n",
    "   3. draw the time of the next kick"
   ]
  },
  {
   "cell_type": "markdown",
   "metadata": {},
   "source": [
    "To make the code more modular, we first create a function to evolve the system when there are no random kicks"
   ]
  },
  {
   "cell_type": "code",
   "execution_count": 5,
   "metadata": {},
   "outputs": [],
   "source": [
    "def analytic_ld_dynamics(pos,vel,b,dt):\n",
    "    \"\"\"\n",
    "    Analytic solution for the dynamics with linear damp.\n",
    "    Given a particle with position pos and velocity vel in 2D\n",
    "    and the scaled linear damp coefficient (b=b1/m)\n",
    "    calculate the position and velocity after a timestep dt\n",
    "    using the analytic expression (Eq 10.14 and 3.12-3.13 of the textbook)\n",
    "    \"\"\"\n",
    "    edt=np.exp(-b*dt)\n",
    "    return pos+vel*(1-edt)/b,vel*edt"
   ]
  },
  {
   "cell_type": "markdown",
   "metadata": {},
   "source": [
    "As in the past, we will simulate the trajectory with a finite timestep. However, in this case, we are not using numerical integrators, as the linear damp dynamics has an analytic solution. The timestep is only used for visualization porposes. As initial configuration we can consider a particle in the origin with no velocity."
   ]
  },
  {
   "cell_type": "code",
   "execution_count": 7,
   "metadata": {},
   "outputs": [],
   "source": [
    "tkick=-np.log(np.random.random())*tau\n",
    "t = 0\n",
    "dt = 0.5\n",
    "nsteps = 10000\n",
    "pos=np.zeros(2)\n",
    "vel=np.zeros(2)\n",
    "x=[pos[0]] # containers to store the coordinates of the system\n",
    "y=[pos[1]] # containers to store the coordinates of the system\n",
    "for i in range(nsteps):\n",
    "    tnext = t + dt\n",
    "    while tkick <= tnext : # this check may happen more than once, if the new kick time is still within the same timestep\n",
    "        dtkick = tkick - t \n",
    "        pos, vel = analytic_ld_dynamics(pos,vel,b,dtkick) # take a step up to the kick\n",
    "        t += dtkick\n",
    "        # apply the random force\n",
    "        theta = np.random.random()*2.*np.pi # pick a random angle for the force\n",
    "        vel += force*np.array([np.cos(theta),np.sin(theta)]) # update the velocity \n",
    "        # update the next kick time\n",
    "        tkick = t - np.log(np.random.random())*tau # draw a new kick-time \n",
    "    dtleft = tnext - t\n",
    "    pos, vel = analytic_ld_dynamics(pos,vel,b,dtleft) # evolve the system up to the end of the timestep\n",
    "    t += dtleft\n",
    "    x.append(pos[0])\n",
    "    y.append(pos[1])"
   ]
  },
  {
   "cell_type": "markdown",
   "metadata": {},
   "source": [
    "If we visualize it we can see that it looks quite similar to the random walk. "
   ]
  },
  {
   "cell_type": "code",
   "execution_count": 9,
   "metadata": {},
   "outputs": [],
   "source": [
    "plt.plot(x,y)\n",
    "plt.axis('equal')\n",
    "plt.show()"
   ]
  },
  {
   "cell_type": "markdown",
   "metadata": {},
   "source": [
    "We can implement the same process as a Phyton class. A class (aka an object) has attributes (internal variables) and methods (functions that act on the instance of that class). The main definition of a class consist in the definition of its `__init__()` method"
   ]
  },
  {
   "cell_type": "code",
   "execution_count": 17,
   "metadata": {},
   "outputs": [],
   "source": [
    "class brownian_motion():\n",
    "    def __init__(self, N=400, F=0.005, b=0.1, tau=2., dt=0.5):\n",
    "        \"\"\"\n",
    "        Initialize an instance of a system of N identical particles\n",
    "        undergoing brownian motion with parameters F, b, and tau.\n",
    "        The initial positions and velocities of the particles are set \n",
    "        to zero. For visualization purposes, the simulation is \n",
    "        split into timesteps of size dt\n",
    "        \"\"\"\n",
    "        self.N = N\n",
    "        self.F = F\n",
    "        self.b = b\n",
    "        self.tau = tau\n",
    "        self.dt = dt\n",
    "        self.pos = np.zeros((N,2))\n",
    "        self.vel = np.zeros((N,2))\n",
    "        self.tkick = -np.log(np.random.random(N))*tau\n",
    "\n",
    "    def step(self,t):\n",
    "        \"\"\"\n",
    "        For each particle in the system, perform a step\n",
    "        of Brownian motion\n",
    "        \"\"\"\n",
    "        tnext = t + self.dt\n",
    "        for i in range(self.N): # loop over each particle\n",
    "            tlocal = t # now we need to keep a local copy of the time, for each particle\n",
    "            while self.tkick[i] <= tnext : # this check may happen more than once, if the new kick time is still within the same timestep\n",
    "                dtkick = self.tkick[i] - tlocal \n",
    "                self.pos[i], self.vel[i] = analytic_ld_dynamics(self.pos[i],self.vel[i],self.b,dtkick) # take a step up to the kick\n",
    "                tlocal += dtkick\n",
    "                # apply the random force\n",
    "                theta = np.random.random()*2.*np.pi # pick a random angle for the force\n",
    "                self.vel[i] += self.F*np.array([np.cos(theta),np.sin(theta)]) # update the velocity \n",
    "                # update the next kick time\n",
    "                self.tkick[i] = tlocal - np.log(np.random.random())*tau # draw a new kick-time \n",
    "            dtleft = tnext - tlocal\n",
    "            self.pos[i], self.vel[i] = analytic_ld_dynamics(self.pos[i],self.vel[i],b,dtleft) # evolve the system up to the end of the timestep\n",
    "        return tnext\n",
    "    "
   ]
  },
  {
   "cell_type": "markdown",
   "metadata": {},
   "source": [
    "With the class above, we can simulate a system of N identical particles under the effect of random forces."
   ]
  },
  {
   "cell_type": "code",
   "execution_count": 14,
   "metadata": {},
   "outputs": [],
   "source": [
    "t=0.\n",
    "bm=brownian_motion(10,0.005,b,tau,dt)\n",
    "x=[bm.pos[:,0].copy()] # containers to store the coordinates of the system\n",
    "y=[bm.pos[:,1].copy()] # containers to store the coordinates of the system\n",
    "for i in range(10000):\n",
    "    t=bm.step(t) # using the step() method will change the attributes of the class and return the next timestep\n",
    "    x.append(bm.pos[:,0].copy()) # containers to store the coordinates of the system\n",
    "    y.append(bm.pos[:,1].copy()) # containers to store the coordinates of the system\n",
    "plt.plot(x,y)\n",
    "plt.axis('equal')\n",
    "plt.show()"
   ]
  },
  {
   "cell_type": "markdown",
   "metadata": {},
   "source": [
    "Assignment 2B: modify the above simulation to compute the mean squared displacement as a function of time, averaging over the $N$ identical realization of the motion."
   ]
  },
  {
   "cell_type": "code",
   "execution_count": null,
   "metadata": {},
   "outputs": [],
   "source": []
  },
  {
   "cell_type": "markdown",
   "metadata": {},
   "source": [
    "Assigment 2C: in a similar way compute the mean squared velocity of the particle as a function of time. Plot the results and estimate $kT$ from the equipartition theorem."
   ]
  },
  {
   "cell_type": "code",
   "execution_count": null,
   "metadata": {},
   "outputs": [],
   "source": []
  },
  {
   "cell_type": "markdown",
   "metadata": {},
   "source": [
    "Reduce $\\tau$ by a factor of 2 and compare the mean squared displacement and the temperature with the previous simulation. Do the same with the kick strength (the `force` parameter)"
   ]
  },
  {
   "cell_type": "code",
   "execution_count": null,
   "metadata": {},
   "outputs": [],
   "source": []
  }
 ],
 "metadata": {
  "interpreter": {
   "hash": "20bf69066c0dd38d51965b69d5e1b6e387082e3198ba56e97997ac55f4e50ad0"
  },
  "kernelspec": {
   "display_name": "Python 3.7.3 64-bit",
   "language": "python",
   "name": "python3"
  },
  "language_info": {
   "codemirror_mode": {
    "name": "ipython",
    "version": 3
   },
   "file_extension": ".py",
   "mimetype": "text/x-python",
   "name": "python",
   "nbconvert_exporter": "python",
   "pygments_lexer": "ipython3",
   "version": "3.8.9"
  },
  "orig_nbformat": 4
 },
 "nbformat": 4,
 "nbformat_minor": 2
}
