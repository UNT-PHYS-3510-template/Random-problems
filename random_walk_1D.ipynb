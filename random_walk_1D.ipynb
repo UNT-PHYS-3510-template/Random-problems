{
 "cells": [
  {
   "cell_type": "markdown",
   "metadata": {},
   "source": [
    "# Random Walk in 1 Dimension\n",
    "Write a program to simulate a random walk in 1D. This time you will write most of the program yourself. "
   ]
  },
  {
   "cell_type": "markdown",
   "metadata": {},
   "source": [
    "Import the usual suspects"
   ]
  },
  {
   "cell_type": "code",
   "execution_count": 1,
   "metadata": {},
   "outputs": [],
   "source": [
    "import numpy as np\n",
    "import matplotlib.pyplot as plt\n",
    "#import matplotlib.style as style\n",
    "#style.use('dark_background')"
   ]
  },
  {
   "cell_type": "markdown",
   "metadata": {},
   "source": [
    "Assignment 1A: write a function walknsteps() that takes in input the number of steps $n$, the step size $l$, and the probability to go right $p$. The function should return as output a Numpy array with the position of the walker at each steps. For simplicity, you can assume that each walker starts at the origin, x(t=0)=0."
   ]
  },
  {
   "cell_type": "code",
   "execution_count": 2,
   "metadata": {},
   "outputs": [],
   "source": [
    "def walknsteps(n,l,p):\n",
    "    return"
   ]
  },
  {
   "cell_type": "markdown",
   "metadata": {},
   "source": [
    "To check that your function looks reasonable, try to use it with a value of p=0.5 and p=1.0. Plot the results of the displacement as a function of time and of the squared displacement as a function of time. Compare these results with your intuition of what should happen in the two cases. "
   ]
  },
  {
   "cell_type": "code",
   "execution_count": 3,
   "metadata": {},
   "outputs": [],
   "source": [
    "p=0.5"
   ]
  },
  {
   "cell_type": "code",
   "execution_count": 4,
   "metadata": {},
   "outputs": [],
   "source": [
    "p=1.0"
   ]
  },
  {
   "cell_type": "markdown",
   "metadata": {},
   "source": [
    "Assigment 1B: you now want to call walknsteps() $N$ times and compute the average of the displacement and squared displacement as a function of step $n$. "
   ]
  },
  {
   "cell_type": "code",
   "execution_count": null,
   "metadata": {},
   "outputs": [],
   "source": []
  },
  {
   "cell_type": "markdown",
   "metadata": {},
   "source": [
    "Assignment 1C: plot the average displacement and squared displacement for a few values of p, e.g. 0.2, 0.5, and 0.9. "
   ]
  },
  {
   "cell_type": "code",
   "execution_count": 5,
   "metadata": {},
   "outputs": [],
   "source": [
    "l=1\n",
    "nmax=50\n",
    "N=100"
   ]
  }
 ],
 "metadata": {
  "interpreter": {
   "hash": "1c90bbb4bff7d31f1c58b8afdb9ff1ab368dd48db406453b0027de2b5a2dd6c2"
  },
  "kernelspec": {
   "display_name": "Python 3.7.7 ('base')",
   "language": "python",
   "name": "python3"
  },
  "language_info": {
   "codemirror_mode": {
    "name": "ipython",
    "version": 3
   },
   "file_extension": ".py",
   "mimetype": "text/x-python",
   "name": "python",
   "nbconvert_exporter": "python",
   "pygments_lexer": "ipython3",
   "version": "3.7.3"
  },
  "orig_nbformat": 4
 },
 "nbformat": 4,
 "nbformat_minor": 2
}
